{
 "cells": [
  {
   "cell_type": "markdown",
   "metadata": {},
   "source": [
    "# Python\n",
    "\n",
    "## Adding code:"
   ]
  },
  {
   "cell_type": "code",
   "execution_count": 5,
   "metadata": {},
   "outputs": [
    {
     "name": "stdout",
     "output_type": "stream",
     "text": [
      "Hello, RTU!\n"
     ]
    }
   ],
   "source": [
    "# Printing a greeting\n",
    "print(\"Hello, RTU!\")"
   ]
  },
  {
   "cell_type": "markdown",
   "metadata": {},
   "source": [
    "## Markdown\n",
    "\n",
    "[Markdown Cheat Sheet](https://enterprise.github.com/downloads/en/markdown-cheatsheet.pdf)\n",
    "\n",
    "### Headings\n",
    "To create a heading, add one to six # symbols before your heading text. The number of # you use will determine the hierarchy level and typeface size of the heading.\n",
    "\n",
    "### Styling text\n",
    "Bold\t** ** or __ __  \n",
    "Italic\t* * or _ _  \n",
    "Strikethrough\t~~~~  \n",
    "Subscript\tsub in <>  \n",
    "Superscript\tsup in <>  \n",
    "Underline\tins in <>\n",
    "\n",
    "### Quoting text\n",
    "You can quote text with a >.\n",
    "\n",
    "### Quoting code\n",
    "You can call out code or a command within a sentence with single backticks. The text within the backticks will not be formatted. You can also press the Command+E (Mac) or Ctrl+E (Windows/Linux) keyboard shortcut to insert the backticks for a code block within a line of Markdown.\n",
    "To format code or text into its own distinct block, use triple backticks.\n",
    "\n",
    "### Supported color models\n",
    "In issues, pull requests, and discussions, you can call out colors within a sentence by using backticks. A supported color model within backticks will display a visualization of the color.\n",
    "\n",
    "Here are the currently supported color models.  \n",
    "HEX\t#RRGGBB  \n",
    "RGB\trgb(R,G,B)  \n",
    "HSL\thsl(H,S,L)  \n",
    "\n",
    "### Links\n",
    "You can create an inline link by wrapping link text in brackets [ ], and then wrapping the URL in parentheses ( ). You can also use the keyboard shortcut Command+K to create a link. When you have text selected, you can paste a URL from your clipboard to automatically create a link from the selection.\n",
    "\n",
    "You can also create a Markdown hyperlink by highlighting the text and using the keyboard shortcut Command+V. If you'd like to replace the text with the link, use the keyboard shortcut Command+Shift+V.\n",
    "\n",
    "### Section links\n",
    "You can link directly to any section that has a heading. To view the automatically generated anchor in a rendered file, hover over the section heading to expose the  icon and click the icon to display the anchor in your browser.\n",
    "\n"
   ]
  },
  {
   "cell_type": "markdown",
   "metadata": {},
   "source": [
    "## Variables"
   ]
  },
  {
   "cell_type": "code",
   "execution_count": 6,
   "metadata": {},
   "outputs": [
    {
     "name": "stdout",
     "output_type": "stream",
     "text": [
      "10\n",
      "Hello!\n"
     ]
    },
    {
     "data": {
      "text/plain": [
       "'Aha'"
      ]
     },
     "execution_count": 6,
     "metadata": {},
     "output_type": "execute_result"
    }
   ],
   "source": [
    "# In Jupyter the last line is printed automatically\n",
    "print(10)\n",
    "print(\"Hello!\")\n",
    "\"Hmm\" # This will not be printed\n",
    "\"Aha\" # This will be printed"
   ]
  },
  {
   "cell_type": "code",
   "execution_count": 7,
   "metadata": {},
   "outputs": [
    {
     "data": {
      "text/plain": [
       "5"
      ]
     },
     "execution_count": 7,
     "metadata": {},
     "output_type": "execute_result"
    }
   ],
   "source": [
    "# You can use Jupyter as a calculator\n",
    "2 + 3"
   ]
  },
  {
   "cell_type": "markdown",
   "metadata": {},
   "source": [
    "Variables in Python are defined by the assignment operator '='. Variables are case sensitive."
   ]
  },
  {
   "cell_type": "code",
   "execution_count": 1,
   "metadata": {},
   "outputs": [
    {
     "name": "stdout",
     "output_type": "stream",
     "text": [
      "potato\n"
     ]
    }
   ],
   "source": [
    "my_variable = \"potato\" # in Python we do not need to specify the type of the variable\n",
    "print(my_variable)\n",
    "# use = for assignment\n",
    "# name variables with snake_case\n",
    "# short but descriptive names\n",
    "\n",
    "i = 5 #good name for an integer variable, also for counting loops"
   ]
  },
  {
   "cell_type": "code",
   "execution_count": 16,
   "metadata": {},
   "outputs": [
    {
     "name": "stdout",
     "output_type": "stream",
     "text": [
      "20\n"
     ]
    }
   ],
   "source": [
    "i += 1 # same as i = i + 1\n",
    "print(i)"
   ]
  },
  {
   "cell_type": "code",
   "execution_count": 17,
   "metadata": {},
   "outputs": [
    {
     "name": "stdout",
     "output_type": "stream",
     "text": [
      "Is it sunny? False\n",
      "Is it snowing? True\n"
     ]
    }
   ],
   "source": [
    "# Boolean variables\n",
    "is_sunny = False\n",
    "is_snowing = True\n",
    "print(f\"Is it sunny? {is_sunny}\")\n",
    "print(f\"Is it snowing? {is_snowing}\")"
   ]
  },
  {
   "cell_type": "code",
   "execution_count": 18,
   "metadata": {},
   "outputs": [
    {
     "name": "stdout",
     "output_type": "stream",
     "text": [
      "None\n"
     ]
    }
   ],
   "source": [
    "# None type\n",
    "my_empty_var = None\n",
    "print(my_empty_var)"
   ]
  }
 ],
 "metadata": {
  "kernelspec": {
   "display_name": "Python 3",
   "language": "python",
   "name": "python3"
  },
  "language_info": {
   "codemirror_mode": {
    "name": "ipython",
    "version": 3
   },
   "file_extension": ".py",
   "mimetype": "text/x-python",
   "name": "python",
   "nbconvert_exporter": "python",
   "pygments_lexer": "ipython3",
   "version": "3.12.1"
  }
 },
 "nbformat": 4,
 "nbformat_minor": 2
}
