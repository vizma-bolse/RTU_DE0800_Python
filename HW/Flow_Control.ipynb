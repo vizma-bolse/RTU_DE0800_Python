{
 "cells": [
  {
   "cell_type": "markdown",
   "metadata": {},
   "source": [
    "# Practice Assignment - Flow Control"
   ]
  },
  {
   "cell_type": "markdown",
   "metadata": {},
   "source": [
    "## 1. Temperature Checker\n",
    "Write a program that checks the user's temperature. \n",
    "\n",
    "If the user enters below 35, then output \"a bit too cold\"\n",
    "\n",
    "If 35 to 37 (inclusive), output \"you are all right\" If there are over 37, then output \"possible fever\""
   ]
  },
  {
   "cell_type": "code",
   "execution_count": null,
   "metadata": {},
   "outputs": [],
   "source": [
    "try:\n",
    "    temp = float(input(\"Enter your temperature: \"))\n",
    "    if temp < 35:\n",
    "        print(\"You're a bit too cold!\")\n",
    "    elif temp <= 37:\n",
    "        print(\"You are all righ!\")\n",
    "    else:\n",
    "        print(\"You possibly have a fever!\")\n",
    "except ValueError:\n",
    "    print(\"You must enter a proper temperature value!\")\n",
    "    "
   ]
  },
  {
   "cell_type": "markdown",
   "metadata": {},
   "source": [
    "## 2. Holiday bonus\n",
    "The company has promised a Xmas bonus of 15% of the monthly salary for EVERY year of service over 2 years. \n",
    "\n",
    "Task. Ask the user for the amount of the monthly salary and the number of years worked. Display the bonus."
   ]
  },
  {
   "cell_type": "code",
   "execution_count": null,
   "metadata": {},
   "outputs": [],
   "source": [
    "try:\n",
    "    salary = int(input(\"Enter the amount of your monthly salary: \"))\n",
    "    years = int(input(\"Enter the number of years you have been working: \"))\n",
    "    if years > 2:\n",
    "        bonus = salary * (0.15 * (years - 2))\n",
    "        print(f\"You're Xmas bonus is {bonus}!\")\n",
    "    else:\n",
    "        print(\"No Xmas bonus for you!\")\n",
    "except ValueError:\n",
    "    print(\"Please enter valid values!\")"
   ]
  },
  {
   "cell_type": "markdown",
   "metadata": {},
   "source": [
    "## 3. Order the numbers\n",
    "\n",
    "Ask the user to enter 3 numbers, output them in an order from smallest to largest."
   ]
  },
  {
   "cell_type": "code",
   "execution_count": null,
   "metadata": {},
   "outputs": [],
   "source": [
    "try:\n",
    "    num1 = int(input(\"Enter the first number: \"))\n",
    "    num2 = int(input(\"Enter the second number: \"))\n",
    "    num3 = int(input(\"Enter the third number: \"))\n",
    "    if num1 <= num2 and num1 <= num3:\n",
    "        if num2 <= num3:\n",
    "            print(num1, num2, num3)\n",
    "        else:\n",
    "            print(num1, num3, num2)\n",
    "    elif num2 <= num1 and num2 <= num3:\n",
    "        if num1 <= num3:\n",
    "            print(num2, num1, num3)\n",
    "        else:\n",
    "            print(num2, num3, num1)\n",
    "    else:\n",
    "        if num1 <= num2:\n",
    "            print(num3, num1, num2)\n",
    "        else:\n",
    "            print(num3, num2, num1)\n",
    "except ValueError:\n",
    "    print(\"Please enter valid numbers!\")"
   ]
  }
 ],
 "metadata": {
  "kernelspec": {
   "display_name": "Python 3",
   "language": "python",
   "name": "python3"
  },
  "language_info": {
   "codemirror_mode": {
    "name": "ipython",
    "version": 3
   },
   "file_extension": ".py",
   "mimetype": "text/x-python",
   "name": "python",
   "nbconvert_exporter": "python",
   "pygments_lexer": "ipython3",
   "version": "3.12.1"
  }
 },
 "nbformat": 4,
 "nbformat_minor": 2
}
