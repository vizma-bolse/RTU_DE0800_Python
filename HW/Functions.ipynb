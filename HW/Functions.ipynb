{
 "cells": [
  {
   "cell_type": "markdown",
   "metadata": {},
   "source": [
    "# Function Practice"
   ]
  },
  {
   "cell_type": "markdown",
   "metadata": {},
   "source": [
    "The city has a known population p0\n",
    "\n",
    "\n",
    "\n",
    "A certain percentage of people join each year\n",
    "\n",
    "\n",
    "\n",
    "Every year a certain number of delta also arrive (or leave)\n",
    "\n",
    "\n",
    "\n",
    "We need to know when (if at all) the city will reach a population of p\n",
    "\n",
    "\n",
    "\n",
    "Write a function get_city_year (p0, perc, delta, p) that returns the years (full) when p is reached.\n",
    "\n",
    "\n",
    "\n",
    "If p cannot be reached, then we return -1\n",
    "\n",
    "\n",
    "\n",
    "Example:\n",
    "\n",
    "\n",
    "\n",
    "get_city_year (1000,2,50,1200) -> 3\n",
    "\n",
    "\n",
    "\n",
    "1000 + 1000 * 0.02 + 50 => 1070 after the 1st year\n",
    "\n",
    "\n",
    "\n",
    "1070 + 1070 * 0.02 + 50 => 1141 after the 2nd year\n",
    "\n",
    "\n",
    "\n",
    "1141 + 1141 * 0.02 + 50 => 1213 after the 3rd year\n",
    "\n",
    "\n",
    "\n",
    "PS. Note that we give perc as a percentage to be converted to a decimal number.\n",
    "\n",
    "\n",
    "\n",
    "We check if it works with the following parameters:\n",
    "\n",
    "\n",
    "\n",
    "get_city_year (1000, 2, -50, 5000) -> -1 # relatively current problem\n",
    "\n",
    "\n",
    "\n",
    "get_city_year (1500, 5, 100, 5000) -> 15\n",
    "\n",
    "\n",
    "\n",
    "get_city_year (1500000, 2.5, 10000, 2,000,000) -> 10"
   ]
  },
  {
   "cell_type": "code",
   "execution_count": 5,
   "metadata": {},
   "outputs": [],
   "source": [
    "def get_city_year (p0, perc, delta, p):\n",
    "    years = 0\n",
    "    while p0 < p:\n",
    "        p0 += p0 * perc / 100 + delta\n",
    "        years += 1\n",
    "        if p0 <= 0:\n",
    "            return -1\n",
    "    return years"
   ]
  },
  {
   "cell_type": "markdown",
   "metadata": {},
   "source": [
    "#### Testing:"
   ]
  },
  {
   "cell_type": "code",
   "execution_count": 7,
   "metadata": {},
   "outputs": [
    {
     "data": {
      "text/plain": [
       "-1"
      ]
     },
     "execution_count": 7,
     "metadata": {},
     "output_type": "execute_result"
    }
   ],
   "source": [
    "get_city_year(1000, 2, -50, 5000)"
   ]
  },
  {
   "cell_type": "code",
   "execution_count": 8,
   "metadata": {},
   "outputs": [
    {
     "data": {
      "text/plain": [
       "15"
      ]
     },
     "execution_count": 8,
     "metadata": {},
     "output_type": "execute_result"
    }
   ],
   "source": [
    "get_city_year (1500, 5, 100, 5000)"
   ]
  },
  {
   "cell_type": "code",
   "execution_count": 10,
   "metadata": {},
   "outputs": [
    {
     "data": {
      "text/plain": [
       "10"
      ]
     },
     "execution_count": 10,
     "metadata": {},
     "output_type": "execute_result"
    }
   ],
   "source": [
    "get_city_year (1500000, 2.5, 10000, 2000000)"
   ]
  }
 ],
 "metadata": {
  "kernelspec": {
   "display_name": "Python 3",
   "language": "python",
   "name": "python3"
  },
  "language_info": {
   "codemirror_mode": {
    "name": "ipython",
    "version": 3
   },
   "file_extension": ".py",
   "mimetype": "text/x-python",
   "name": "python",
   "nbconvert_exporter": "python",
   "pygments_lexer": "ipython3",
   "version": "3.12.1"
  }
 },
 "nbformat": 4,
 "nbformat_minor": 2
}
