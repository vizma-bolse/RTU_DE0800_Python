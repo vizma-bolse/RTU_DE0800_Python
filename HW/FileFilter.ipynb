{
 "cells": [
  {
   "cell_type": "markdown",
   "metadata": {},
   "source": [
    "# File Cleaner"
   ]
  },
  {
   "cell_type": "code",
   "execution_count": null,
   "metadata": {},
   "outputs": [],
   "source": [
    "# 50% of the grade\n",
    "def clean_file(src_file, dest_file, good_text=\"\", bad_text=\"\"):\n",
    "\n",
    "    # open src_file\n",
    "    with open(src_file) as source_file:\n",
    "        lines = source_file.readlines()\n",
    "\n",
    "    # keep only lines with good text BUT not with bad_text\n",
    "    filtered_lines = [\n",
    "        line for line in lines\n",
    "        if good_text in line and bad_text not in line\n",
    "    ]\n",
    "\n",
    "    # save onto dest_file overwritting the existing file there\n",
    "    with open(dest_file, 'w') as destination_file:\n",
    "        destination_file.writelines(filtered_lines)\n",
    "        \n",
    "    print(f\"Cleaned file {src_file} and saved onto {dest_file}\")"
   ]
  },
  {
   "cell_type": "code",
   "execution_count": null,
   "metadata": {},
   "outputs": [],
   "source": [
    "# 80% of the grade\n",
    "def clean_file_many(src_file, dest_file, good_texts=(), bad_texts=()):\n",
    "\n",
    "    # open src_file\n",
    "    with open(src_file) as source_file:\n",
    "        lines = source_file.readlines()\n",
    "\n",
    "    # keep only lines with any good text BUT NOT with ANY bad text\n",
    "    filtered_lines = [\n",
    "        line for line in lines\n",
    "        if any(good in line for good in good_texts)\n",
    "        and not any(bad in line for bad in bad_texts)\n",
    "    ]\n",
    "\n",
    "    # save onto dest_file overwritting the existing file there\n",
    "    with open(dest_file, 'w') as destination_file:\n",
    "        destination_file.writelines(filtered_lines)\n",
    "\n",
    "    print(f\"Cleaned file {src_file} and saved onto {dest_file}\")"
   ]
  },
  {
   "cell_type": "code",
   "execution_count": null,
   "metadata": {},
   "outputs": [],
   "source": [
    "# 100% of the grade\n",
    "\n",
    "import os\n",
    "\n",
    "def clean_folder_many_texts(src_folder, dest_folder, src_postfix=\".txt\", dest_postfix=\"_cleaned.txt\", good_texts=(), bad_texts=()):\n",
    "\n",
    "    # create dest_folder if it does not exist!\n",
    "    os.makedirs(dest_folder, exist_ok=True)\n",
    "\n",
    "    # open src_folder\n",
    "    files_in_folder = os.listdir(src_folder)\n",
    "    \n",
    "    for filename in files_in_folder:\n",
    "        if filename.endswith(src_postfix):\n",
    "            src_file = os.path.join(src_folder, filename) \n",
    "            dest_file = os.path.join(dest_folder, filename.replace(src_postfix, dest_postfix))\n",
    "    \n",
    "            with open(src_file) as source_file:\n",
    "                lines = source_file.readlines()       \n",
    "\n",
    "    # keep only lines with good text BUT not with bad_text\n",
    "    # check for default edge cases when good_texts and/or bad_texts are empty\n",
    "            filtered_lines = [\n",
    "                line for line in lines\n",
    "                if (any(good in line for good in good_texts) if good_texts else True)\n",
    "                and (not any(bad in line for bad in bad_texts) if bad_texts else True)\n",
    "            ]\n",
    "\n",
    "    # save onto dest_folder with same file names but with dest_postfix added to each file\n",
    "            with open(dest_file, 'w') as destination_file:\n",
    "                destination_file.writelines(filtered_lines)\n",
    "            \n",
    "            print(f\"Cleaned file {src_file} and saved onto {dest_file}\")\n",
    "    \n",
    "    print(f\"Cleaned files in {src_folder} and saved onto {dest_folder}\")"
   ]
  }
 ],
 "metadata": {
  "kernelspec": {
   "display_name": ".venv",
   "language": "python",
   "name": "python3"
  },
  "language_info": {
   "codemirror_mode": {
    "name": "ipython",
    "version": 3
   },
   "file_extension": ".py",
   "mimetype": "text/x-python",
   "name": "python",
   "nbconvert_exporter": "python",
   "pygments_lexer": "ipython3",
   "version": "3.12.1"
  }
 },
 "nbformat": 4,
 "nbformat_minor": 4
}
