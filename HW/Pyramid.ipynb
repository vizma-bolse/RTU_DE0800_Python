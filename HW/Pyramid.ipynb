{
 "cells": [
  {
   "cell_type": "markdown",
   "metadata": {},
   "source": [
    "# Homework 1 - Wild Pyramid"
   ]
  },
  {
   "cell_type": "markdown",
   "metadata": {},
   "source": [
    "Create a program that builds a pyramid out of symbols.\n",
    "\n",
    "There should be a variable specifying height of pyramid. \n",
    "\n",
    "Bonus: ask user for the height! \n",
    "\n",
    "Pyramid starts with 1 symbol. It keeps expanding to 3 symbols, 5 symbols, etc.\n",
    "\n",
    "60% of grade for HW1 will be given for pyramid making single symbols \n",
    "\n",
    "80% of grade will be given if the symbols alternate (for example * and #)\n",
    "\n",
    "100% of grade will be given for those whose pyramid is made from your first name letters (repeating) "
   ]
  },
  {
   "cell_type": "code",
   "execution_count": 9,
   "metadata": {},
   "outputs": [
    {
     "name": "stdout",
     "output_type": "stream",
     "text": [
      "         V         \n",
      "        III        \n",
      "       ZZZZZ       \n",
      "      MMMMMMM      \n",
      "     AAAAAAAAA     \n",
      "    VVVVVVVVVVV    \n",
      "   IIIIIIIIIIIII   \n",
      "  ZZZZZZZZZZZZZZZ  \n",
      " MMMMMMMMMMMMMMMMM \n",
      "AAAAAAAAAAAAAAAAAAA\n",
      "\n"
     ]
    }
   ],
   "source": [
    "def pyramid(height):\n",
    "    name = \"VIZMA\"\n",
    "    result = \"\"\n",
    "    for row_number in range(1, height + 1):\n",
    "        letter = name[(row_number - 1) % len(name)]\n",
    "        row = \" \" * (height - row_number) + letter * (2 * row_number - 1) + \" \" * (height - row_number)\n",
    "        result += row + \"\\n\"\n",
    "    return result\n",
    "\n",
    "\n",
    "while True:\n",
    "    try:\n",
    "        height = int(input(\"Please input a number between 1 and 40: \"))\n",
    "        if height < 2 or height > 40:\n",
    "            print(\"Please input a number between 1 and 40!\")\n",
    "        else:\n",
    "            break\n",
    "    except ValueError:\n",
    "        print(\"Please input a number between 1 and 40!\")\n",
    "print(pyramid(height))"
   ]
  }
 ],
 "metadata": {
  "kernelspec": {
   "display_name": "Python 3",
   "language": "python",
   "name": "python3"
  },
  "language_info": {
   "codemirror_mode": {
    "name": "ipython",
    "version": 3
   },
   "file_extension": ".py",
   "mimetype": "text/x-python",
   "name": "python",
   "nbconvert_exporter": "python",
   "pygments_lexer": "ipython3",
   "version": "3.12.1"
  }
 },
 "nbformat": 4,
 "nbformat_minor": 2
}
