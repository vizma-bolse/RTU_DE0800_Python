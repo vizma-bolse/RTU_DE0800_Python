{
 "cells": [
  {
   "cell_type": "markdown",
   "metadata": {},
   "source": [
    "# Functions"
   ]
  },
  {
   "cell_type": "markdown",
   "metadata": {},
   "source": [
    "*Do not repeat yourself principle:*  \n",
    "DRY (Don't Repeat Yourself) programming is a way to think about code that will make programming less work overall. If you find yourself copy / pasting code, think DRY and see if a function or loop could help you cut down on repetition."
   ]
  },
  {
   "cell_type": "code",
   "execution_count": 1,
   "metadata": {},
   "outputs": [
    {
     "name": "stdout",
     "output_type": "stream",
     "text": [
      "I want to go eat\n",
      "I am going to order food\n"
     ]
    }
   ],
   "source": [
    "print(\"I want to go eat\")\n",
    "print(\"I am going to order food\")"
   ]
  },
  {
   "cell_type": "code",
   "execution_count": 2,
   "metadata": {},
   "outputs": [],
   "source": [
    "def order_food():\n",
    "    print(\"I want to go eat\")\n",
    "    print(\"I am going to order food\")\n",
    "\n",
    "# function names should be lowercase and separated by underscores - short yet descriptive\n",
    "# here function is defined but not called"
   ]
  },
  {
   "cell_type": "code",
   "execution_count": 4,
   "metadata": {},
   "outputs": [
    {
     "name": "stdout",
     "output_type": "stream",
     "text": [
      "I want to go eat\n",
      "I am going to order food\n"
     ]
    }
   ],
   "source": [
    "# calling the function\n",
    "order_food()"
   ]
  },
  {
   "cell_type": "code",
   "execution_count": 6,
   "metadata": {},
   "outputs": [
    {
     "name": "stdout",
     "output_type": "stream",
     "text": [
      "I want to go eat\n",
      "I am going to order food\n",
      "I am going to eat food\n"
     ]
    }
   ],
   "source": [
    "# nesting function calls\n",
    "def eat_food():\n",
    "    order_food()\n",
    "    print(\"I am going to eat food\")\n",
    "\n",
    "eat_food()"
   ]
  },
  {
   "cell_type": "markdown",
   "metadata": {},
   "source": [
    "Function names serve as a way of self-documenting code"
   ]
  },
  {
   "cell_type": "markdown",
   "metadata": {},
   "source": [
    "## Function parameters / passing arguments"
   ]
  },
  {
   "cell_type": "code",
   "execution_count": 10,
   "metadata": {},
   "outputs": [
    {
     "name": "stdout",
     "output_type": "stream",
     "text": [
      "I want to order pizza\n",
      "Let's eat pizza\n"
     ]
    }
   ],
   "source": [
    "# passing arguments to functions\n",
    "\n",
    "def place_order(dish):\n",
    "    print(f\"I want to order {dish}\")\n",
    "    print(f\"Let's eat {dish}\")\n",
    "\n",
    "# \"dish\" is a parameter available only within the function\n",
    "place_order(\"pizza\")"
   ]
  },
  {
   "cell_type": "code",
   "execution_count": 12,
   "metadata": {},
   "outputs": [
    {
     "name": "stdout",
     "output_type": "stream",
     "text": [
      "I want to order burger\n",
      "Let's eat burger\n"
     ]
    }
   ],
   "source": [
    "place_order(\"burger\")"
   ]
  },
  {
   "cell_type": "code",
   "execution_count": 11,
   "metadata": {},
   "outputs": [
    {
     "name": "stdout",
     "output_type": "stream",
     "text": [
      "I want to order ice cream\n",
      "Let's eat ice cream\n"
     ]
    }
   ],
   "source": [
    "dessert = \"ice cream\"\n",
    "place_order(dessert)"
   ]
  },
  {
   "cell_type": "code",
   "execution_count": 13,
   "metadata": {},
   "outputs": [
    {
     "name": "stdout",
     "output_type": "stream",
     "text": [
      "I want to order pasta\n",
      "Let's eat pasta\n",
      "I want to order salad\n",
      "Let's eat salad\n",
      "I want to order soup\n",
      "Let's eat soup\n"
     ]
    }
   ],
   "source": [
    "food_list = [\"pasta\", \"salad\", \"soup\"]\n",
    "for food in food_list:\n",
    "    place_order(food)"
   ]
  },
  {
   "cell_type": "code",
   "execution_count": 18,
   "metadata": {},
   "outputs": [
    {
     "name": "stdout",
     "output_type": "stream",
     "text": [
      "I want to order pasta\n",
      "Let's eat pasta\n",
      "I want to order salad\n",
      "Let's eat salad\n",
      "I want to order soup\n",
      "Let's eat soup\n"
     ]
    }
   ],
   "source": [
    "# making a function from the previous example\n",
    "\n",
    "def order_food_from_list(food_list):\n",
    "    for food in food_list:\n",
    "        place_order(food)\n",
    "\n",
    "order_food_from_list(food_list)"
   ]
  },
  {
   "cell_type": "code",
   "execution_count": 19,
   "metadata": {},
   "outputs": [
    {
     "name": "stdout",
     "output_type": "stream",
     "text": [
      "I want to order cake\n",
      "Let's eat cake\n",
      "I want to order sandwich\n",
      "Let's eat sandwich\n",
      "I want to order sushi\n",
      "Let's eat sushi\n"
     ]
    }
   ],
   "source": [
    "# another food list with a different set of food items\n",
    "food_list2 = [\"cake\", \"sandwich\", \"sushi\"]\n",
    "order_food_from_list(food_list2)"
   ]
  },
  {
   "cell_type": "markdown",
   "metadata": {},
   "source": [
    "## Named arguments"
   ]
  },
  {
   "cell_type": "code",
   "execution_count": 20,
   "metadata": {},
   "outputs": [
    {
     "name": "stdout",
     "output_type": "stream",
     "text": [
      "I want to order cake\n",
      "Let's eat cake\n",
      "I want to order sandwich\n",
      "Let's eat sandwich\n",
      "I want to order sushi\n",
      "Let's eat sushi\n"
     ]
    }
   ],
   "source": [
    "# python allows functions to be called using keyword arguments\n",
    "order_food_from_list(food_list=food_list2)"
   ]
  },
  {
   "cell_type": "code",
   "execution_count": 22,
   "metadata": {},
   "outputs": [
    {
     "name": "stdout",
     "output_type": "stream",
     "text": [
      "I want to order p\n",
      "Let's eat p\n",
      "I want to order i\n",
      "Let's eat i\n",
      "I want to order z\n",
      "Let's eat z\n",
      "I want to order z\n",
      "Let's eat z\n",
      "I want to order a\n",
      "Let's eat a\n"
     ]
    }
   ],
   "source": [
    "order_food_from_list(\"pizza\")\n",
    "# in this case the function will go through each character in the string and treat it as an item in the list"
   ]
  },
  {
   "cell_type": "code",
   "execution_count": 24,
   "metadata": {},
   "outputs": [
    {
     "name": "stdout",
     "output_type": "stream",
     "text": [
      "I want to order 2 pizza\n",
      "Let's eat 2 pizza\n"
     ]
    }
   ],
   "source": [
    "# passing more than one argument to a function\n",
    "def place_order_with_quantity(dish, quantity):\n",
    "    print(f\"I want to order {quantity} {dish}\")\n",
    "    print(f\"Let's eat {quantity} {dish}\")\n",
    "\n",
    "place_order_with_quantity(\"pizza\", 2)"
   ]
  },
  {
   "cell_type": "code",
   "execution_count": 26,
   "metadata": {},
   "outputs": [
    {
     "name": "stdout",
     "output_type": "stream",
     "text": [
      "5\n"
     ]
    }
   ],
   "source": [
    "def add(a, b):\n",
    "    print(a+b)\n",
    "\n",
    "add(2, 3)"
   ]
  },
  {
   "cell_type": "code",
   "execution_count": 29,
   "metadata": {},
   "outputs": [
    {
     "name": "stdout",
     "output_type": "stream",
     "text": [
      "I am multiplying 2 and 3, and the result is 6\n"
     ]
    },
    {
     "data": {
      "text/plain": [
       "6"
      ]
     },
     "execution_count": 29,
     "metadata": {},
     "output_type": "execute_result"
    }
   ],
   "source": [
    "def mult(a, b):\n",
    "    result = a * b\n",
    "    print(f\"I am multiplying {a} and {b}, and the result is {result}\") # this only prints the result\n",
    "    return result # this will also save the result\n",
    "\n",
    "mult(2, 3)"
   ]
  },
  {
   "cell_type": "code",
   "execution_count": 33,
   "metadata": {},
   "outputs": [],
   "source": [
    "# function that returns item that contains needle in the haystack\n",
    "def find_needle_in_haystack(needle, haystack):\n",
    "    for item in haystack:\n",
    "        print(f\"Found {needle} in {item}!\")\n",
    "        return item\n",
    "    print(f\"Did not find {needle} in {haystack}\")"
   ]
  },
  {
   "cell_type": "code",
   "execution_count": 34,
   "metadata": {},
   "outputs": [
    {
     "name": "stdout",
     "output_type": "stream",
     "text": [
      "Found soup in pasta!\n",
      "pasta\n"
     ]
    }
   ],
   "source": [
    "mysoup = find_needle_in_haystack(\"soup\", food_list)\n",
    "print(mysoup)"
   ]
  },
  {
   "cell_type": "code",
   "execution_count": 40,
   "metadata": {},
   "outputs": [],
   "source": [
    "def add_food(food_list, food):\n",
    "    food_list.append(food)\n",
    "    food = \"strawberry\"\n",
    "    return food_list"
   ]
  },
  {
   "cell_type": "code",
   "execution_count": 42,
   "metadata": {},
   "outputs": [
    {
     "name": "stdout",
     "output_type": "stream",
     "text": [
      "['pasta', 'salad', 'soup', 'ice cream', 'ice cream', 'ice cream', 'soup']\n"
     ]
    }
   ],
   "source": [
    "my_new_food_list = add_food(food_list, food)\n",
    "print(my_new_food_list)"
   ]
  },
  {
   "cell_type": "markdown",
   "metadata": {},
   "source": [
    "## Default values"
   ]
  },
  {
   "cell_type": "code",
   "execution_count": 48,
   "metadata": {},
   "outputs": [],
   "source": [
    "def make_cocktail(soda=\"tomato juice\", alcohol=\"vodka\", garnish=\"olive\"):\n",
    "    print(f\"Making a {soda} and {alcohol} cocktail with a {garnish} garnish\")\n",
    "    return soda, alcohol, garnish"
   ]
  },
  {
   "cell_type": "code",
   "execution_count": 49,
   "metadata": {},
   "outputs": [
    {
     "name": "stdout",
     "output_type": "stream",
     "text": [
      "Making a coke and rum cocktail with a lime garnish\n"
     ]
    },
    {
     "data": {
      "text/plain": [
       "('coke', 'rum', 'lime')"
      ]
     },
     "execution_count": 49,
     "metadata": {},
     "output_type": "execute_result"
    }
   ],
   "source": [
    "make_cocktail(\"coke\", \"rum\", \"lime\")"
   ]
  },
  {
   "cell_type": "code",
   "execution_count": 50,
   "metadata": {},
   "outputs": [],
   "source": [
    "def dance(dancers, songs, verbose=False):\n",
    "    '''\n",
    "    Dance functions takes two sequences \n",
    "    dancers - list of dancers\n",
    "    songs - list of songs\n",
    "    returns a list of ALL songs vs dancers\n",
    "    '''\n",
    "    dance_list = []\n",
    "    for dancer in dancers:\n",
    "        for song in songs:\n",
    "            print(f\"Dancer {dancer} is dancing to {song}\")\n",
    "            dance_list.append((dancer,song)) # I need to append a tuple to my list\n",
    "    return dance_list\n"
   ]
  },
  {
   "cell_type": "code",
   "execution_count": 51,
   "metadata": {},
   "outputs": [
    {
     "name": "stdout",
     "output_type": "stream",
     "text": [
      "Dancer Valdis is dancing to Dancing Queen\n",
      "Dancer Valdis is dancing to Ziemelmeita\n",
      "Dancer Līga is dancing to Dancing Queen\n",
      "Dancer Līga is dancing to Ziemelmeita\n"
     ]
    },
    {
     "data": {
      "text/plain": [
       "[('Valdis', 'Dancing Queen'),\n",
       " ('Valdis', 'Ziemelmeita'),\n",
       " ('Līga', 'Dancing Queen'),\n",
       " ('Līga', 'Ziemelmeita')]"
      ]
     },
     "execution_count": 51,
     "metadata": {},
     "output_type": "execute_result"
    }
   ],
   "source": [
    "dance([\"Valdis\", \"Līga\"], [\"Dancing Queen\", \"Ziemelmeita\"])"
   ]
  },
  {
   "cell_type": "code",
   "execution_count": 52,
   "metadata": {},
   "outputs": [
    {
     "name": "stdout",
     "output_type": "stream",
     "text": [
      "Help on function dance in module __main__:\n",
      "\n",
      "dance(dancers, songs, verbose=False)\n",
      "    Dance functions takes two sequences\n",
      "    dancers - list of dancers\n",
      "    songs - list of songs\n",
      "    returns a list of ALL songs vs dancers\n",
      "\n"
     ]
    }
   ],
   "source": [
    "help(dance)"
   ]
  },
  {
   "cell_type": "markdown",
   "metadata": {},
   "source": [
    "## Chaining results"
   ]
  },
  {
   "cell_type": "code",
   "execution_count": 54,
   "metadata": {},
   "outputs": [
    {
     "name": "stdout",
     "output_type": "stream",
     "text": [
      "I am multiplying 2 and 3, and the result is 6\n",
      "I am multiplying 5 and 7, and the result is 35\n",
      "I am multiplying 6 and 35, and the result is 210\n"
     ]
    },
    {
     "data": {
      "text/plain": [
       "210"
      ]
     },
     "execution_count": 54,
     "metadata": {},
     "output_type": "execute_result"
    }
   ],
   "source": [
    "mult(mult(2,3), mult(5,7))"
   ]
  },
  {
   "cell_type": "markdown",
   "metadata": {},
   "source": [
    "## Accessing global variables"
   ]
  },
  {
   "cell_type": "code",
   "execution_count": null,
   "metadata": {},
   "outputs": [
    {
     "name": "stdout",
     "output_type": "stream",
     "text": [
      "Result is 9005\n"
     ]
    },
    {
     "data": {
      "text/plain": [
       "9005"
      ]
     },
     "execution_count": 55,
     "metadata": {},
     "output_type": "execute_result"
    }
   ],
   "source": [
    "# you should avoid accessing global variables from within functions\n",
    "# do this as a last resort\n",
    "# if you need to modify a global variable, you should pass it as an argument to the function\n",
    "# or return it from the function\n",
    "result = 9000\n",
    "\n",
    "def add2(a,b):\n",
    "    global result\n",
    "    result += a+b\n",
    "    print(f\"Result is {result}\")\n",
    "    return result\n",
    "\n",
    "add2(2,3)"
   ]
  },
  {
   "cell_type": "code",
   "execution_count": 56,
   "metadata": {},
   "outputs": [],
   "source": [
    "# now the global variable is modified"
   ]
  },
  {
   "cell_type": "markdown",
   "metadata": {},
   "source": [
    "## Variable length arguments"
   ]
  },
  {
   "cell_type": "code",
   "execution_count": 57,
   "metadata": {},
   "outputs": [
    {
     "name": "stdout",
     "output_type": "stream",
     "text": [
      "Processing 1\n",
      "Processing 2\n",
      "Processing 3\n",
      "Processing 4\n",
      "Processing 5\n",
      "Processing 6\n",
      "Processing 7\n",
      "Processing 8\n",
      "Processing 9\n",
      "Processing 10\n"
     ]
    }
   ],
   "source": [
    "def process_unlimited(*values):\n",
    "    for item in values:\n",
    "        print(f\"Processing {item}\")\n",
    "\n",
    "process_unlimited(1,2,3,4,5,6,7,8,9,10)"
   ]
  },
  {
   "cell_type": "code",
   "execution_count": 58,
   "metadata": {},
   "outputs": [
    {
     "data": {
      "text/plain": [
       "7.0"
      ]
     },
     "execution_count": 58,
     "metadata": {},
     "output_type": "execute_result"
    }
   ],
   "source": [
    "# alternative\n",
    "def get_average_number(word_list):\n",
    "    total = 0\n",
    "    for word in word_list:\n",
    "        total += len(word)\n",
    "    return total/len(word_list)\n",
    "\n",
    "get_average_number([\"Valdis\", \"Līga\", \"Ziemelmeita\"])"
   ]
  },
  {
   "cell_type": "markdown",
   "metadata": {},
   "source": [
    "## Returning multiple values"
   ]
  },
  {
   "cell_type": "code",
   "execution_count": 59,
   "metadata": {},
   "outputs": [
    {
     "data": {
      "text/plain": [
       "(1, 10)"
      ]
     },
     "execution_count": 59,
     "metadata": {},
     "output_type": "execute_result"
    }
   ],
   "source": [
    "def get_min_max(value_list):\n",
    "    return min(value_list), max(value_list)\n",
    "\n",
    "get_min_max([1,2,3,4,5,6,7,8,9,10])"
   ]
  },
  {
   "cell_type": "code",
   "execution_count": 60,
   "metadata": {},
   "outputs": [
    {
     "name": "stdout",
     "output_type": "stream",
     "text": [
      "1 10\n"
     ]
    }
   ],
   "source": [
    "my_min, my_max = get_min_max([1,2,3,4,5,6,7,8,9,10])\n",
    "print(my_min, my_max)"
   ]
  },
  {
   "cell_type": "code",
   "execution_count": 61,
   "metadata": {},
   "outputs": [
    {
     "data": {
      "text/plain": [
       "6"
      ]
     },
     "execution_count": 61,
     "metadata": {},
     "output_type": "execute_result"
    }
   ],
   "source": [
    "def multiplier(a: int, b: int) -> int:\n",
    "    return a*b\n",
    "\n",
    "multiplier(2,3)"
   ]
  },
  {
   "cell_type": "code",
   "execution_count": 63,
   "metadata": {},
   "outputs": [
    {
     "name": "stdout",
     "output_type": "stream",
     "text": [
      "BeerBeerBeerBeerBeer\n"
     ]
    }
   ],
   "source": [
    "result = multiplier(\"Beer\", 5) # Python ignores type hints\n",
    "print(result)"
   ]
  },
  {
   "cell_type": "code",
   "execution_count": 64,
   "metadata": {},
   "outputs": [],
   "source": [
    "# linting tools can check for type hints and other code quality issues\n",
    "# mypy, pylint, flake8, black, isort, bandit, etc.\n"
   ]
  }
 ],
 "metadata": {
  "kernelspec": {
   "display_name": "Python 3",
   "language": "python",
   "name": "python3"
  },
  "language_info": {
   "codemirror_mode": {
    "name": "ipython",
    "version": 3
   },
   "file_extension": ".py",
   "mimetype": "text/x-python",
   "name": "python",
   "nbconvert_exporter": "python",
   "pygments_lexer": "ipython3",
   "version": "3.12.1"
  }
 },
 "nbformat": 4,
 "nbformat_minor": 2
}
