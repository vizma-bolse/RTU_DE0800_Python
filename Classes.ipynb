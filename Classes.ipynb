{
 "cells": [
  {
   "cell_type": "markdown",
   "metadata": {},
   "source": [
    "## Programming Styles\n",
    "\n",
    "* Imperative\n",
    " >* All computer machines work in imperative style\n",
    " >* Global variables are a problem\n",
    "* Declarative\n",
    ">* We declare knowledge \n",
    ">* We make queries on that knowledge  \n",
    "* Functional Style - pure functions, no side effects\n",
    "* Object Oriented\n",
    "\n",
    "### Data Hiding (Abstraction) - Private and Public\n",
    "### Inheritance (Classes can inherit other Classes)\n",
    "### Polymorphism (Different Classes use same methods doing different actions)\n",
    "The ability of different objects to respond, each in its own way, to identical messages is called polymorphism"
   ]
  },
  {
   "cell_type": "markdown",
   "metadata": {},
   "source": [
    "EAFP is a Python acronym that stands for easier to ask for forgiveness than permission. This coding style is highly pushed in the Python community because it completely relies on the duck typing concept, thus fitting well with the language philosophy.\n",
    "\n",
    "The concept behind EAFP is fairly easy: instead of checking if an object has a given attribute or method before actually accessing or using it, just trust the object to provide what you need and manage the error case"
   ]
  },
  {
   "cell_type": "markdown",
   "metadata": {},
   "source": [
    "* casually methods == functions, technically methods are functions defined within class(more to follow) and have class context"
   ]
  },
  {
   "cell_type": "code",
   "execution_count": 1,
   "metadata": {},
   "outputs": [],
   "source": [
    "# classes are blueprints\n",
    "# objects are concrete realizations of those blueprints\n",
    "# we use classes to group data(variables, properties) and methods(functions that live inside our objects)\n",
    "# turns out in Python everything is an object"
   ]
  },
  {
   "cell_type": "code",
   "execution_count": 2,
   "metadata": {},
   "outputs": [
    {
     "name": "stdout",
     "output_type": "stream",
     "text": [
      "type of 5 is  <class 'int'>\n",
      "type of 5.0 is  <class 'float'>\n",
      "type of '5' is  <class 'str'>\n",
      "type of [5] is  <class 'list'>\n",
      "type of {5} is  <class 'set'>\n",
      "type of (5) is  <class 'int'>\n",
      "type of True is  <class 'bool'>\n"
     ]
    }
   ],
   "source": [
    "# Types of some primitive data types\n",
    "print(\"type of 5 is \", type(5))\n",
    "print(\"type of 5.0 is \", type(5.0))\n",
    "print(\"type of '5' is \", type('5'))\n",
    "print(\"type of [5] is \", type([5]))\n",
    "print(\"type of {5} is \", type({5}))\n",
    "print(\"type of (5) is \", type((5)))\n",
    "print(\"type of True is \", type(True))"
   ]
  },
  {
   "cell_type": "markdown",
   "metadata": {},
   "source": [
    "We can create a class blueprint which is basically empty - a blank sheet of paper. We can then create objects from this blueprint. Not very useful but it is a start.\n"
   ]
  },
  {
   "cell_type": "code",
   "execution_count": 3,
   "metadata": {},
   "outputs": [],
   "source": [
    "class SimpleClass:\n",
    "    pass # does nothing"
   ]
  },
  {
   "cell_type": "code",
   "execution_count": 4,
   "metadata": {},
   "outputs": [
    {
     "name": "stdout",
     "output_type": "stream",
     "text": [
      "<__main__.SimpleClass object at 0x781e499df0e0>\n"
     ]
    }
   ],
   "source": [
    "simple_object = SimpleClass()\n",
    "print(simple_object) # so we used this blank blueprint and we created an object in memory somewhere"
   ]
  },
  {
   "cell_type": "code",
   "execution_count": 5,
   "metadata": {},
   "outputs": [
    {
     "name": "stdout",
     "output_type": "stream",
     "text": [
      "100\n"
     ]
    }
   ],
   "source": [
    "simple_object.some_property = 100\n",
    "print(simple_object.some_property) # i could store date in this object"
   ]
  },
  {
   "cell_type": "code",
   "execution_count": 6,
   "metadata": {},
   "outputs": [],
   "source": [
    "# Making a more complex blueprint\n",
    "\n",
    "class SimpleHouse:\n",
    "    windows = 8\n",
    "    basement = False\n",
    "\n",
    "    # print properties method of the house\n",
    "    # methods are functions that live inside objects\n",
    "    def print_properties(self): # self refers to the specific object that is calling this method\n",
    "        print(\"Windows: \", self.windows)\n",
    "        print(\"Basement: \", self.basement)"
   ]
  },
  {
   "cell_type": "code",
   "execution_count": 7,
   "metadata": {},
   "outputs": [
    {
     "name": "stdout",
     "output_type": "stream",
     "text": [
      "Windows:  8\n",
      "Basement:  False\n",
      "Windows:  10\n",
      "Basement:  True\n"
     ]
    }
   ],
   "source": [
    "# I can use the SimpleHouse blueprint to create a house object\n",
    "first_simple_house = SimpleHouse()\n",
    "first_simple_house.print_properties()\n",
    "# I can change the properties of the house\n",
    "first_simple_house.windows = 10\n",
    "first_simple_house.basement = True\n",
    "first_simple_house.print_properties()"
   ]
  },
  {
   "cell_type": "code",
   "execution_count": 8,
   "metadata": {},
   "outputs": [],
   "source": [
    "first_simple_house.windows = 12"
   ]
  },
  {
   "cell_type": "code",
   "execution_count": null,
   "metadata": {},
   "outputs": [],
   "source": [
    "# first_simple_house is an object of the SimpleHouse class\n",
    "# SimpleHouse is the blueprint\n",
    "# windows is a property of the SimpleHouse class\n",
    "# So the structure can be seen as first_simple_house.SimpleHouse.windows"
   ]
  },
  {
   "cell_type": "code",
   "execution_count": 11,
   "metadata": {},
   "outputs": [
    {
     "name": "stdout",
     "output_type": "stream",
     "text": [
      "Windows:  8\n",
      "Basement:  False\n"
     ]
    }
   ],
   "source": [
    "# Creating a second house object\n",
    "second_simple_house = SimpleHouse() # this creates a completely new object from the same blueprint\n",
    "second_simple_house.print_properties()"
   ]
  },
  {
   "cell_type": "code",
   "execution_count": 13,
   "metadata": {},
   "outputs": [],
   "source": [
    "# Makin a class with _init_ method\n",
    "# One weakness of the previous approach is that we have to set the properties of the object after creating it\n",
    "# We can use the _init_ method to set the properties of the object when it is created"
   ]
  },
  {
   "cell_type": "code",
   "execution_count": 19,
   "metadata": {},
   "outputs": [
    {
     "name": "stdout",
     "output_type": "stream",
     "text": [
      "Construction time again! Let's build a house named  \n",
      "Construction finished, object ready to go!\n",
      "<__main__.House object at 0x781e48f392e0>\n",
      "Construction time again! Let's build a house named  My House\n",
      "Construction finished, object ready to go!\n",
      "<__main__.House object at 0x781e48f3be60>\n",
      "My house is named  <__main__.House object at 0x781e48f3be60>\n"
     ]
    }
   ],
   "source": [
    "class House:\n",
    "    # we could have moved the above two properties to constructor\n",
    "    # there is a special method called once upon creation of an object\n",
    "    # it is called a constructor method\n",
    "    # it is handy to do some initialization tasks\n",
    "    # so we use a predefined name __init__ for method so that will be called automatically\n",
    "    # WARNING for default sequence types use empty tuple (not empty list)\n",
    "    def __init__(self, name=\"\", \n",
    "                 color=\"Red\", \n",
    "                 nails=0, \n",
    "                 stories=2, \n",
    "                 inhabitants = (),\n",
    "                 windows=8,\n",
    "                 has_basement=False):\n",
    "        print(\"Construction time again! Let's build a house named \", name)\n",
    "\n",
    "        self.color = color # names typically match the names of the properties, but it is NOT required\n",
    "        self.nails = nails\n",
    "        self.stories = stories\n",
    "        self.name = name\n",
    "        self.inhabitants = list(inhabitants)  # we want a list because we will want to mutate possibly \n",
    "        self.windows = windows\n",
    "        self.basement = has_basement # here the names do not match, but it is OK\n",
    "        print(\"Construction finished, object ready to go!\")\n",
    "        print(self) # this should call __str__ function now\n",
    "\n",
    "# This is the default constructor, we pass no arguments\n",
    "my_house = House()\n",
    "\n",
    "# Adding a name for the house\n",
    "my_house.name = House(\"My House\")\n",
    "\n",
    "# Printing the properties of the house\n",
    "print(\"My house is named \", my_house.name)\n"
   ]
  }
 ],
 "metadata": {
  "kernelspec": {
   "display_name": "Python 3",
   "language": "python",
   "name": "python3"
  },
  "language_info": {
   "codemirror_mode": {
    "name": "ipython",
    "version": 3
   },
   "file_extension": ".py",
   "mimetype": "text/x-python",
   "name": "python",
   "nbconvert_exporter": "python",
   "pygments_lexer": "ipython3",
   "version": "3.12.1"
  }
 },
 "nbformat": 4,
 "nbformat_minor": 2
}
