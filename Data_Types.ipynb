{
 "cells": [
  {
   "cell_type": "markdown",
   "metadata": {},
   "source": [
    "## Data Types\n",
    "* Integers type(42) int \n",
    "* Floating Point type(3.14) float\n",
    "* Boolean type(True),type(False) bool\n",
    "* String(ordered, **immutable** char sequence) type(\"OyCaramba\") str\n",
    "* List type([1,2,63,\"aha\",\"youcanmixtypeinsidelist\", [\"even\",\"nest\"]]) list\n",
    "* Dictionary(key:value pairs) type({\"foo\":\"bar\", \"favoriteday\":\"Friday\"}) dict\n",
    "* Tuple - ordered immutable sequence type(\"sup\",7,\"dwarves\") tup\n",
    "* Set (unordered collection of uniques) (\"k\",\"a\",\"r\",\"t\",\"u\",\"p\",\"e\",\"l\",\"i\",\"s\")"
   ]
  },
  {
   "cell_type": "code",
   "execution_count": 1,
   "metadata": {},
   "outputs": [
    {
     "name": "stdout",
     "output_type": "stream",
     "text": [
      "0.30000000000000004\n",
      "0.3\n"
     ]
    }
   ],
   "source": [
    "# floats can be rounded\n",
    "weird_num = 0.1+0.2\n",
    "rounded_num = round(weird_num, 2)  # 2 here means 2 digits after comma\n",
    "print(weird_num)\n",
    "print(rounded_num)"
   ]
  },
  {
   "cell_type": "code",
   "execution_count": 2,
   "metadata": {},
   "outputs": [
    {
     "data": {
      "text/plain": [
       "8"
      ]
     },
     "execution_count": 2,
     "metadata": {},
     "output_type": "execute_result"
    }
   ],
   "source": [
    "2**3 # this is 2 to the power of 3 , so 2 cubed"
   ]
  },
  {
   "cell_type": "code",
   "execution_count": 3,
   "metadata": {},
   "outputs": [
    {
     "data": {
      "text/plain": [
       "9.0"
      ]
     },
     "execution_count": 3,
     "metadata": {},
     "output_type": "execute_result"
    }
   ],
   "source": [
    "81**0.5 # square root"
   ]
  },
  {
   "cell_type": "code",
   "execution_count": 4,
   "metadata": {},
   "outputs": [
    {
     "data": {
      "text/plain": [
       "0.2"
      ]
     },
     "execution_count": 4,
     "metadata": {},
     "output_type": "execute_result"
    }
   ],
   "source": [
    "5**(-1) # one fifth"
   ]
  },
  {
   "cell_type": "code",
   "execution_count": 7,
   "metadata": {},
   "outputs": [
    {
     "name": "stdout",
     "output_type": "stream",
     "text": [
      "5 6 11\n"
     ]
    }
   ],
   "source": [
    "a=5\n",
    "b=6\n",
    "c=7\n",
    "c=b+a # = is assignment not equality!! equality is ==\n",
    "print(a,b,c)"
   ]
  },
  {
   "cell_type": "code",
   "execution_count": 8,
   "metadata": {},
   "outputs": [
    {
     "name": "stdout",
     "output_type": "stream",
     "text": [
      "11\n"
     ]
    }
   ],
   "source": [
    "# adding something to itself is so common\n",
    "# that there is a shorter way of writing it\n",
    "a += 6 # this means a = a + 6\n",
    "print(a)"
   ]
  },
  {
   "cell_type": "markdown",
   "metadata": {},
   "source": [
    "### id(object)\n",
    "\n",
    "Return the “identity” of an object. \n",
    "\n",
    "This is an integer which is guaranteed to be unique and constant for this object during its lifetime. \n",
    "Two objects with non-overlapping lifetimes may have the same id() value.\n",
    "\n",
    "#### CPython implementation detail: This is the address of the object in memory."
   ]
  },
  {
   "cell_type": "code",
   "execution_count": 9,
   "metadata": {},
   "outputs": [
    {
     "name": "stdout",
     "output_type": "stream",
     "text": [
      "28\n"
     ]
    }
   ],
   "source": [
    "b+=22 # shortcut operator to add to existing value of a variable b = b + 22\n",
    "# += /= -= *=\n",
    "print(b)"
   ]
  },
  {
   "cell_type": "code",
   "execution_count": 10,
   "metadata": {},
   "outputs": [
    {
     "data": {
      "text/plain": [
       "(98144883579112,\n",
       " 98144883579656,\n",
       " 98144883580104,\n",
       " 98144883578856,\n",
       " 98144883578888,\n",
       " 98144883578920,\n",
       " 125483263442608,\n",
       " 125483263442800,\n",
       " 125483263441840)"
      ]
     },
     "execution_count": 10,
     "metadata": {},
     "output_type": "execute_result"
    }
   ],
   "source": [
    "id(a),id(b),id(42),id(3),id(4),id(5),id(5000),id(5001),id(5002) # notice how ids are incremented!"
   ]
  },
  {
   "cell_type": "markdown",
   "metadata": {},
   "source": [
    "### Floating Point "
   ]
  },
  {
   "cell_type": "code",
   "execution_count": 11,
   "metadata": {},
   "outputs": [
    {
     "data": {
      "text/plain": [
       "1.6095238095238096"
      ]
     },
     "execution_count": 11,
     "metadata": {},
     "output_type": "execute_result"
    }
   ],
   "source": [
    "4/5 + 2/3 + 1/7"
   ]
  },
  {
   "cell_type": "code",
   "execution_count": 12,
   "metadata": {},
   "outputs": [
    {
     "data": {
      "text/plain": [
       "1.1102230246251565e-16"
      ]
     },
     "execution_count": 12,
     "metadata": {},
     "output_type": "execute_result"
    }
   ],
   "source": [
    "0.1+0.2+0.3-0.6\n",
    "# More on floating point https://docs.python.org/2/tutorial/floatingpoint.html"
   ]
  }
 ],
 "metadata": {
  "kernelspec": {
   "display_name": "Python 3",
   "language": "python",
   "name": "python3"
  },
  "language_info": {
   "codemirror_mode": {
    "name": "ipython",
    "version": 3
   },
   "file_extension": ".py",
   "mimetype": "text/x-python",
   "name": "python",
   "nbconvert_exporter": "python",
   "pygments_lexer": "ipython3",
   "version": "3.12.1"
  }
 },
 "nbformat": 4,
 "nbformat_minor": 2
}
